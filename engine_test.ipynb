{
 "metadata": {
  "language_info": {
   "codemirror_mode": {
    "name": "ipython",
    "version": 3
   },
   "file_extension": ".py",
   "mimetype": "text/x-python",
   "name": "python",
   "nbconvert_exporter": "python",
   "pygments_lexer": "ipython3",
   "version": "3.7.4-final"
  },
  "orig_nbformat": 2,
  "kernelspec": {
   "name": "python3",
   "display_name": "Python 3.7.4 64-bit ('anaconda3': virtualenv)",
   "metadata": {
    "interpreter": {
     "hash": "2cabd92f6138bbdf9261bb40cc61c6bcd37a9b7f2fc08ea74ab9470b485d4905"
    }
   }
  }
 },
 "nbformat": 4,
 "nbformat_minor": 2,
 "cells": [
  {
   "source": [
    "# Creating a Chess AI using Tensorflow"
   ],
   "cell_type": "markdown",
   "metadata": {}
  },
  {
   "source": [
    "import chess\n",
    "import chess.engine\n",
    "import numpy as np\n",
    "import random\n",
    "import tensorflow as tf"
   ],
   "cell_type": "code",
   "metadata": {},
   "execution_count": 111,
   "outputs": []
  },
  {
   "source": [
    "def create_random_board(max_depth = 200):\n",
    "    depth = random.randrange(0, max_depth)\n",
    "    board = chess.Board()\n",
    "    for _ in range(depth):\n",
    "        move = random.choice(list(board.legal_moves))\n",
    "        board.push(move)\n",
    "        if board.is_game_over():\n",
    "            break\n",
    "    return board\n",
    "\n",
    "def sf_evaluate(board, depth = 0):\n",
    "    sf = chess.engine.SimpleEngine.popen_uci(\"stockfish\")\n",
    "    analysis = sf.analyse(board, chess.engine.Limit(depth=depth))\n",
    "    return analysis['score'].white().score()\n",
    "\n",
    "def create_dataset(n = 10000):\n",
    "    positions = np.empty(0, dtype = object)\n",
    "    evals = np.empty(0, dtype = numpy.int16)\n",
    "    for _ in range(n):\n",
    "        board = create_random_board()\n",
    "        evaluation = sf_evaluate(board)\n",
    "        if evaluation:\n",
    "            positions = np.append(positions, board)\n",
    "            evals = np.append(evals, evaluation)\n",
    "    np.save('positions', positions)\n",
    "    np.save('evals', evals)"
   ],
   "cell_type": "code",
   "metadata": {},
   "execution_count": 168,
   "outputs": []
  },
  {
   "cell_type": "code",
   "execution_count": 169,
   "metadata": {},
   "outputs": [
    {
     "output_type": "stream",
     "name": "stdout",
     "text": [
      "CPU times: user 484 ms, sys: 221 ms, total: 705 ms\nWall time: 5.35 s\n"
     ]
    }
   ],
   "source": [
    "%%time\n",
    "create_dataset(10)"
   ]
  },
  {
   "cell_type": "code",
   "execution_count": null,
   "metadata": {},
   "outputs": [],
   "source": []
  }
 ]
}