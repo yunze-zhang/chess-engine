{
 "metadata": {
  "language_info": {
   "codemirror_mode": {
    "name": "ipython",
    "version": 3
   },
   "file_extension": ".py",
   "mimetype": "text/x-python",
   "name": "python",
   "nbconvert_exporter": "python",
   "pygments_lexer": "ipython3",
   "version": "3.7.4-final"
  },
  "orig_nbformat": 2,
  "kernelspec": {
   "name": "python3",
   "display_name": "Python 3.7.4 64-bit ('base': conda)",
   "metadata": {
    "interpreter": {
     "hash": "2cabd92f6138bbdf9261bb40cc61c6bcd37a9b7f2fc08ea74ab9470b485d4905"
    }
   }
  }
 },
 "nbformat": 4,
 "nbformat_minor": 2,
 "cells": [
  {
   "source": [
    "# Creating a Chess AI using Tensorflow"
   ],
   "cell_type": "markdown",
   "metadata": {}
  },
  {
   "source": [
    "import chess\n",
    "import chess.engine\n",
    "import numpy as np\n",
    "import random\n",
    "import tensorflow as tf"
   ],
   "cell_type": "code",
   "metadata": {},
   "execution_count": 4,
   "outputs": []
  },
  {
   "source": [
    "def create_random_board(max_depth = 200):\n",
    "    \"\"\"\n",
    "    Generates board state after a random number of moves in range to max_depth\n",
    "    If checkmate is reached, board state of checkmate is returned\n",
    "    Returns board object\n",
    "    \"\"\"\n",
    "    depth = random.randrange(0, max_depth)\n",
    "    board = chess.Board()\n",
    "    for _ in range(depth):\n",
    "        move = random.choice(list(board.legal_moves))\n",
    "        board.push(move)\n",
    "        if board.is_game_over():\n",
    "            break\n",
    "    return board\n",
    "\n",
    "def create_dataset(n = 10000):\n",
    "    \"\"\"\n",
    "    Generates a dataset containing n boards, and stockfish's evaluation of those boards.\n",
    "    Saves boards and corresponding evaluations into two separate numpy files\n",
    "    \"\"\"\n",
    "    sf = chess.engine.SimpleEngine.popen_uci(\"stockfish\")\n",
    "    positions = np.empty(0, dtype = object)\n",
    "    evals = np.empty(0, dtype = np.int16)\n",
    "    for _ in range(n):\n",
    "        board = create_random_board()\n",
    "        analysis = sf.analyse(board, chess.engine.Limit(depth=0))\n",
    "        evaluation = analysis['score'].white().score()\n",
    "        if evaluation:\n",
    "            positions = np.append(positions, board)\n",
    "            evals = np.append(evals, evaluation)\n",
    "    np.save('positions', positions)\n",
    "    np.save('evals', evals)\n",
    "\n",
    "def get_dataset():\n",
    "    \"\"\"\n",
    "    Retreive boards and evaluations from file, normalize evaluations to be between 0 and 1\n",
    "    \"\"\"\n",
    "    positions = np.load('positions.npy')\n",
    "    evals = np.load('evals.npy')\n",
    "    evals = np.asarray(evals / abs(evals).max() / 2 + 0.5, dtype = np.float32)\n",
    "    return positions, evals\n",
    "\n",
    "def convert_board(board):\n",
    "    \"\"\"\n",
    "    Converts board into a 3d 14x8x8 matrix representing the positions of all pieces of \n",
    "    both colours, all valid moves, and all attacked squares\n",
    "    \"\"\"\n",
    "    matrix_board = np.zeros((14, 8, 8), dtype = np.int8)\n",
    "    for piece in chess.PIECE_TYPES:\n",
    "        \n",
    "\n",
    "def create_model():\n",
    "    \"\"\"\n",
    "    Creates and returns CNN model \n",
    "    \"\"\""
   ],
   "cell_type": "code",
   "metadata": {},
   "execution_count": 9,
   "outputs": []
  },
  {
   "cell_type": "code",
   "execution_count": 14,
   "metadata": {},
   "outputs": [
    {
     "output_type": "stream",
     "name": "stdout",
     "text": [
      "CPU times: user 1min 43s, sys: 2.5 s, total: 1min 45s\nWall time: 2min 23s\n"
     ]
    }
   ],
   "source": [
    "%%time\n",
    "create_dataset(6000)"
   ]
  },
  {
   "cell_type": "code",
   "execution_count": null,
   "metadata": {},
   "outputs": [],
   "source": [
    "positions, evals = get_dataset()"
   ]
  },
  {
   "cell_type": "code",
   "execution_count": null,
   "metadata": {},
   "outputs": [],
   "source": []
  }
 ]
}